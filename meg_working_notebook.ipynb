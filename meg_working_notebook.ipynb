{
 "cells": [
  {
   "cell_type": "code",
   "execution_count": 22,
   "metadata": {},
   "outputs": [],
   "source": [
    "import pandas as pd\n",
    "\n",
    "from surprise import Dataset, Reader\n",
    "from surprise.model_selection import train_test_split"
   ]
  },
  {
   "cell_type": "code",
   "execution_count": 2,
   "metadata": {},
   "outputs": [],
   "source": [
    "df = pd.read_json(\"Data/reviews_Beauty_5.json.gz\",lines=True)"
   ]
  },
  {
   "cell_type": "code",
   "execution_count": 4,
   "metadata": {},
   "outputs": [
    {
     "data": {
      "text/html": [
       "<div>\n",
       "<style scoped>\n",
       "    .dataframe tbody tr th:only-of-type {\n",
       "        vertical-align: middle;\n",
       "    }\n",
       "\n",
       "    .dataframe tbody tr th {\n",
       "        vertical-align: top;\n",
       "    }\n",
       "\n",
       "    .dataframe thead th {\n",
       "        text-align: right;\n",
       "    }\n",
       "</style>\n",
       "<table border=\"1\" class=\"dataframe\">\n",
       "  <thead>\n",
       "    <tr style=\"text-align: right;\">\n",
       "      <th></th>\n",
       "      <th>reviewerID</th>\n",
       "      <th>asin</th>\n",
       "      <th>reviewerName</th>\n",
       "      <th>helpful</th>\n",
       "      <th>reviewText</th>\n",
       "      <th>overall</th>\n",
       "      <th>summary</th>\n",
       "      <th>unixReviewTime</th>\n",
       "      <th>reviewTime</th>\n",
       "    </tr>\n",
       "  </thead>\n",
       "  <tbody>\n",
       "    <tr>\n",
       "      <th>0</th>\n",
       "      <td>A1YJEY40YUW4SE</td>\n",
       "      <td>7806397051</td>\n",
       "      <td>Andrea</td>\n",
       "      <td>[3, 4]</td>\n",
       "      <td>Very oily and creamy. Not at all what I expect...</td>\n",
       "      <td>1</td>\n",
       "      <td>Don't waste your money</td>\n",
       "      <td>1391040000</td>\n",
       "      <td>01 30, 2014</td>\n",
       "    </tr>\n",
       "    <tr>\n",
       "      <th>1</th>\n",
       "      <td>A60XNB876KYML</td>\n",
       "      <td>7806397051</td>\n",
       "      <td>Jessica H.</td>\n",
       "      <td>[1, 1]</td>\n",
       "      <td>This palette was a decent price and I was look...</td>\n",
       "      <td>3</td>\n",
       "      <td>OK Palette!</td>\n",
       "      <td>1397779200</td>\n",
       "      <td>04 18, 2014</td>\n",
       "    </tr>\n",
       "    <tr>\n",
       "      <th>2</th>\n",
       "      <td>A3G6XNM240RMWA</td>\n",
       "      <td>7806397051</td>\n",
       "      <td>Karen</td>\n",
       "      <td>[0, 1]</td>\n",
       "      <td>The texture of this concealer pallet is fantas...</td>\n",
       "      <td>4</td>\n",
       "      <td>great quality</td>\n",
       "      <td>1378425600</td>\n",
       "      <td>09 6, 2013</td>\n",
       "    </tr>\n",
       "    <tr>\n",
       "      <th>3</th>\n",
       "      <td>A1PQFP6SAJ6D80</td>\n",
       "      <td>7806397051</td>\n",
       "      <td>Norah</td>\n",
       "      <td>[2, 2]</td>\n",
       "      <td>I really can't tell what exactly this thing is...</td>\n",
       "      <td>2</td>\n",
       "      <td>Do not work on my face</td>\n",
       "      <td>1386460800</td>\n",
       "      <td>12 8, 2013</td>\n",
       "    </tr>\n",
       "    <tr>\n",
       "      <th>4</th>\n",
       "      <td>A38FVHZTNQ271F</td>\n",
       "      <td>7806397051</td>\n",
       "      <td>Nova Amor</td>\n",
       "      <td>[0, 0]</td>\n",
       "      <td>It was a little smaller than I expected, but t...</td>\n",
       "      <td>3</td>\n",
       "      <td>It's okay.</td>\n",
       "      <td>1382140800</td>\n",
       "      <td>10 19, 2013</td>\n",
       "    </tr>\n",
       "    <tr>\n",
       "      <th>5</th>\n",
       "      <td>A3BTN14HIZET6Z</td>\n",
       "      <td>7806397051</td>\n",
       "      <td>S. M. Randall \"WildHorseWoman\"</td>\n",
       "      <td>[1, 2]</td>\n",
       "      <td>I was very happy to get this palette, now I wi...</td>\n",
       "      <td>5</td>\n",
       "      <td>Very nice palette!</td>\n",
       "      <td>1365984000</td>\n",
       "      <td>04 15, 2013</td>\n",
       "    </tr>\n",
       "    <tr>\n",
       "      <th>6</th>\n",
       "      <td>A1Z59RFKN0M5QL</td>\n",
       "      <td>7806397051</td>\n",
       "      <td>tasha \"luvely12b\"</td>\n",
       "      <td>[1, 3]</td>\n",
       "      <td>PLEASE DONT DO IT! this just rachett the palet...</td>\n",
       "      <td>1</td>\n",
       "      <td>smh!!!</td>\n",
       "      <td>1376611200</td>\n",
       "      <td>08 16, 2013</td>\n",
       "    </tr>\n",
       "    <tr>\n",
       "      <th>7</th>\n",
       "      <td>AWUO9P6PL1SY8</td>\n",
       "      <td>7806397051</td>\n",
       "      <td>TreMagnifique</td>\n",
       "      <td>[0, 1]</td>\n",
       "      <td>Chalky,Not Pigmented,Wears off easily,Not a Co...</td>\n",
       "      <td>2</td>\n",
       "      <td>Chalky, Not Pigmented, Wears off easily, Not a...</td>\n",
       "      <td>1378252800</td>\n",
       "      <td>09 4, 2013</td>\n",
       "    </tr>\n",
       "    <tr>\n",
       "      <th>8</th>\n",
       "      <td>A3LMILRM9OC3SA</td>\n",
       "      <td>9759091062</td>\n",
       "      <td>NaN</td>\n",
       "      <td>[0, 0]</td>\n",
       "      <td>Did nothing for me. Stings when I put it on. I...</td>\n",
       "      <td>2</td>\n",
       "      <td>no Lightening, no Brightening,......NOTHING</td>\n",
       "      <td>1405209600</td>\n",
       "      <td>07 13, 2014</td>\n",
       "    </tr>\n",
       "    <tr>\n",
       "      <th>9</th>\n",
       "      <td>A30IP88QK3YUIO</td>\n",
       "      <td>9759091062</td>\n",
       "      <td>Amina Bint Ibraheem</td>\n",
       "      <td>[0, 0]</td>\n",
       "      <td>I bought this product to get rid of the dark s...</td>\n",
       "      <td>3</td>\n",
       "      <td>Its alright</td>\n",
       "      <td>1388102400</td>\n",
       "      <td>12 27, 2013</td>\n",
       "    </tr>\n",
       "  </tbody>\n",
       "</table>\n",
       "</div>"
      ],
      "text/plain": [
       "       reviewerID        asin                    reviewerName helpful  \\\n",
       "0  A1YJEY40YUW4SE  7806397051                          Andrea  [3, 4]   \n",
       "1   A60XNB876KYML  7806397051                      Jessica H.  [1, 1]   \n",
       "2  A3G6XNM240RMWA  7806397051                           Karen  [0, 1]   \n",
       "3  A1PQFP6SAJ6D80  7806397051                           Norah  [2, 2]   \n",
       "4  A38FVHZTNQ271F  7806397051                       Nova Amor  [0, 0]   \n",
       "5  A3BTN14HIZET6Z  7806397051  S. M. Randall \"WildHorseWoman\"  [1, 2]   \n",
       "6  A1Z59RFKN0M5QL  7806397051               tasha \"luvely12b\"  [1, 3]   \n",
       "7   AWUO9P6PL1SY8  7806397051                   TreMagnifique  [0, 1]   \n",
       "8  A3LMILRM9OC3SA  9759091062                             NaN  [0, 0]   \n",
       "9  A30IP88QK3YUIO  9759091062             Amina Bint Ibraheem  [0, 0]   \n",
       "\n",
       "                                          reviewText  overall  \\\n",
       "0  Very oily and creamy. Not at all what I expect...        1   \n",
       "1  This palette was a decent price and I was look...        3   \n",
       "2  The texture of this concealer pallet is fantas...        4   \n",
       "3  I really can't tell what exactly this thing is...        2   \n",
       "4  It was a little smaller than I expected, but t...        3   \n",
       "5  I was very happy to get this palette, now I wi...        5   \n",
       "6  PLEASE DONT DO IT! this just rachett the palet...        1   \n",
       "7  Chalky,Not Pigmented,Wears off easily,Not a Co...        2   \n",
       "8  Did nothing for me. Stings when I put it on. I...        2   \n",
       "9  I bought this product to get rid of the dark s...        3   \n",
       "\n",
       "                                             summary  unixReviewTime  \\\n",
       "0                             Don't waste your money      1391040000   \n",
       "1                                        OK Palette!      1397779200   \n",
       "2                                      great quality      1378425600   \n",
       "3                             Do not work on my face      1386460800   \n",
       "4                                         It's okay.      1382140800   \n",
       "5                                 Very nice palette!      1365984000   \n",
       "6                                             smh!!!      1376611200   \n",
       "7  Chalky, Not Pigmented, Wears off easily, Not a...      1378252800   \n",
       "8        no Lightening, no Brightening,......NOTHING      1405209600   \n",
       "9                                        Its alright      1388102400   \n",
       "\n",
       "    reviewTime  \n",
       "0  01 30, 2014  \n",
       "1  04 18, 2014  \n",
       "2   09 6, 2013  \n",
       "3   12 8, 2013  \n",
       "4  10 19, 2013  \n",
       "5  04 15, 2013  \n",
       "6  08 16, 2013  \n",
       "7   09 4, 2013  \n",
       "8  07 13, 2014  \n",
       "9  12 27, 2013  "
      ]
     },
     "execution_count": 4,
     "metadata": {},
     "output_type": "execute_result"
    }
   ],
   "source": [
    "df.head(10)"
   ]
  },
  {
   "cell_type": "code",
   "execution_count": 5,
   "metadata": {},
   "outputs": [
    {
     "data": {
      "text/plain": [
       "A2V5R832QCSOMX    204\n",
       "ALNFHVS3SC4FV     192\n",
       "AKMEY1BSHSDG7     182\n",
       "A3KEZLJ59C1JVH    154\n",
       "ALQGOMOY1F5X9     150\n",
       "                 ... \n",
       "A3TIC5SOGNUCXK      5\n",
       "A13SAVYJLEH4D1      5\n",
       "A2ZAW5KNSVWOQJ      5\n",
       "A21B8AV7E3MPXE      5\n",
       "AEC2A39TRSSDU       5\n",
       "Name: reviewerID, Length: 22363, dtype: int64"
      ]
     },
     "execution_count": 5,
     "metadata": {},
     "output_type": "execute_result"
    }
   ],
   "source": [
    "#Seeing that at least every reviewer had at least five reviews \n",
    "df[\"reviewerID\"].value_counts()"
   ]
  },
  {
   "cell_type": "code",
   "execution_count": 15,
   "metadata": {
    "scrolled": true
   },
   "outputs": [
    {
     "data": {
      "text/html": [
       "<div>\n",
       "<style scoped>\n",
       "    .dataframe tbody tr th:only-of-type {\n",
       "        vertical-align: middle;\n",
       "    }\n",
       "\n",
       "    .dataframe tbody tr th {\n",
       "        vertical-align: top;\n",
       "    }\n",
       "\n",
       "    .dataframe thead th {\n",
       "        text-align: right;\n",
       "    }\n",
       "</style>\n",
       "<table border=\"1\" class=\"dataframe\">\n",
       "  <thead>\n",
       "    <tr style=\"text-align: right;\">\n",
       "      <th></th>\n",
       "      <th>reviewerID</th>\n",
       "      <th>asin</th>\n",
       "      <th>reviewerName</th>\n",
       "      <th>helpful</th>\n",
       "      <th>reviewText</th>\n",
       "      <th>overall</th>\n",
       "      <th>summary</th>\n",
       "      <th>unixReviewTime</th>\n",
       "      <th>reviewTime</th>\n",
       "    </tr>\n",
       "  </thead>\n",
       "  <tbody>\n",
       "  </tbody>\n",
       "</table>\n",
       "</div>"
      ],
      "text/plain": [
       "Empty DataFrame\n",
       "Columns: [reviewerID, asin, reviewerName, helpful, reviewText, overall, summary, unixReviewTime, reviewTime]\n",
       "Index: []"
      ]
     },
     "execution_count": 15,
     "metadata": {},
     "output_type": "execute_result"
    }
   ],
   "source": [
    "#finding any duplicate reviews\n",
    "duplicates = df[df.duplicated([\"reviewerID\", \"asin\", \"unixReviewTime\"])]\n",
    "duplicates"
   ]
  },
  {
   "cell_type": "code",
   "execution_count": 20,
   "metadata": {
    "scrolled": true
   },
   "outputs": [
    {
     "name": "stdout",
     "output_type": "stream",
     "text": [
      "<class 'pandas.core.frame.DataFrame'>\n",
      "RangeIndex: 198502 entries, 0 to 198501\n",
      "Data columns (total 9 columns):\n",
      " #   Column          Non-Null Count   Dtype \n",
      "---  ------          --------------   ----- \n",
      " 0   reviewerID      198502 non-null  object\n",
      " 1   asin            198502 non-null  object\n",
      " 2   reviewerName    197116 non-null  object\n",
      " 3   helpful         198502 non-null  object\n",
      " 4   reviewText      198502 non-null  object\n",
      " 5   overall         198502 non-null  int64 \n",
      " 6   summary         198502 non-null  object\n",
      " 7   unixReviewTime  198502 non-null  int64 \n",
      " 8   reviewTime      198502 non-null  object\n",
      "dtypes: int64(2), object(7)\n",
      "memory usage: 13.6+ MB\n"
     ]
    }
   ],
   "source": [
    "df.info()"
   ]
  },
  {
   "cell_type": "code",
   "execution_count": 25,
   "metadata": {},
   "outputs": [
    {
     "ename": "AttributeError",
     "evalue": "'DatasetAutoFolds' object has no attribute 'itertuples'",
     "output_type": "error",
     "traceback": [
      "\u001b[0;31m---------------------------------------------------------------------------\u001b[0m",
      "\u001b[0;31mAttributeError\u001b[0m                            Traceback (most recent call last)",
      "\u001b[0;32m<ipython-input-25-6bebad326cc7>\u001b[0m in \u001b[0;36m<module>\u001b[0;34m\u001b[0m\n\u001b[1;32m      2\u001b[0m \u001b[0mreader\u001b[0m\u001b[0;34m=\u001b[0m\u001b[0mReader\u001b[0m\u001b[0;34m(\u001b[0m\u001b[0mrating_scale\u001b[0m\u001b[0;34m=\u001b[0m\u001b[0;34m(\u001b[0m\u001b[0;36m1\u001b[0m\u001b[0;34m,\u001b[0m\u001b[0;36m5\u001b[0m\u001b[0;34m)\u001b[0m\u001b[0;34m)\u001b[0m\u001b[0;34m\u001b[0m\u001b[0;34m\u001b[0m\u001b[0m\n\u001b[1;32m      3\u001b[0m \u001b[0msurprise_df\u001b[0m \u001b[0;34m=\u001b[0m \u001b[0mDataset\u001b[0m\u001b[0;34m.\u001b[0m\u001b[0mload_from_df\u001b[0m\u001b[0;34m(\u001b[0m\u001b[0mdf\u001b[0m\u001b[0;34m[\u001b[0m\u001b[0;34m[\u001b[0m\u001b[0;34m'reviewerID'\u001b[0m\u001b[0;34m,\u001b[0m \u001b[0;34m'asin'\u001b[0m\u001b[0;34m,\u001b[0m \u001b[0;34m'overall'\u001b[0m\u001b[0;34m]\u001b[0m\u001b[0;34m]\u001b[0m\u001b[0;34m,\u001b[0m \u001b[0mreader\u001b[0m\u001b[0;34m)\u001b[0m\u001b[0;34m\u001b[0m\u001b[0;34m\u001b[0m\u001b[0m\n\u001b[0;32m----> 4\u001b[0;31m \u001b[0msurprise_data\u001b[0m\u001b[0;34m=\u001b[0m \u001b[0mDataset\u001b[0m\u001b[0;34m.\u001b[0m\u001b[0mload_from_df\u001b[0m\u001b[0;34m(\u001b[0m\u001b[0msurprise_df\u001b[0m\u001b[0;34m,\u001b[0m \u001b[0mreader\u001b[0m\u001b[0;34m)\u001b[0m\u001b[0;34m\u001b[0m\u001b[0;34m\u001b[0m\u001b[0m\n\u001b[0m\u001b[1;32m      5\u001b[0m \u001b[0;34m\u001b[0m\u001b[0m\n\u001b[1;32m      6\u001b[0m \u001b[0mtrainset\u001b[0m\u001b[0;34m,\u001b[0m \u001b[0mtestset\u001b[0m \u001b[0;34m=\u001b[0m \u001b[0mtrain_test_split\u001b[0m\u001b[0;34m(\u001b[0m\u001b[0msurprise_data\u001b[0m\u001b[0;34m,\u001b[0m \u001b[0mtest_size\u001b[0m\u001b[0;34m=\u001b[0m\u001b[0;36m0.2\u001b[0m\u001b[0;34m,\u001b[0m \u001b[0mrandom_state\u001b[0m\u001b[0;34m=\u001b[0m\u001b[0;36m23\u001b[0m\u001b[0;34m)\u001b[0m\u001b[0;34m\u001b[0m\u001b[0;34m\u001b[0m\u001b[0m\n",
      "\u001b[0;32m~/opt/anaconda3/envs/learn-env/lib/python3.8/site-packages/surprise/dataset.py\u001b[0m in \u001b[0;36mload_from_df\u001b[0;34m(cls, df, reader)\u001b[0m\n\u001b[1;32m    162\u001b[0m         \"\"\"\n\u001b[1;32m    163\u001b[0m \u001b[0;34m\u001b[0m\u001b[0m\n\u001b[0;32m--> 164\u001b[0;31m         \u001b[0;32mreturn\u001b[0m \u001b[0mDatasetAutoFolds\u001b[0m\u001b[0;34m(\u001b[0m\u001b[0mreader\u001b[0m\u001b[0;34m=\u001b[0m\u001b[0mreader\u001b[0m\u001b[0;34m,\u001b[0m \u001b[0mdf\u001b[0m\u001b[0;34m=\u001b[0m\u001b[0mdf\u001b[0m\u001b[0;34m)\u001b[0m\u001b[0;34m\u001b[0m\u001b[0;34m\u001b[0m\u001b[0m\n\u001b[0m\u001b[1;32m    165\u001b[0m \u001b[0;34m\u001b[0m\u001b[0m\n\u001b[1;32m    166\u001b[0m     \u001b[0;32mdef\u001b[0m \u001b[0mread_ratings\u001b[0m\u001b[0;34m(\u001b[0m\u001b[0mself\u001b[0m\u001b[0;34m,\u001b[0m \u001b[0mfile_name\u001b[0m\u001b[0;34m)\u001b[0m\u001b[0;34m:\u001b[0m\u001b[0;34m\u001b[0m\u001b[0;34m\u001b[0m\u001b[0m\n",
      "\u001b[0;32m~/opt/anaconda3/envs/learn-env/lib/python3.8/site-packages/surprise/dataset.py\u001b[0m in \u001b[0;36m__init__\u001b[0;34m(self, ratings_file, reader, df)\u001b[0m\n\u001b[1;32m    256\u001b[0m             self.raw_ratings = [(uid, iid, float(r), None)\n\u001b[1;32m    257\u001b[0m                                 \u001b[0;32mfor\u001b[0m \u001b[0;34m(\u001b[0m\u001b[0muid\u001b[0m\u001b[0;34m,\u001b[0m \u001b[0miid\u001b[0m\u001b[0;34m,\u001b[0m \u001b[0mr\u001b[0m\u001b[0;34m)\u001b[0m \u001b[0;32min\u001b[0m\u001b[0;34m\u001b[0m\u001b[0;34m\u001b[0m\u001b[0m\n\u001b[0;32m--> 258\u001b[0;31m                                 self.df.itertuples(index=False)]\n\u001b[0m\u001b[1;32m    259\u001b[0m         \u001b[0;32melse\u001b[0m\u001b[0;34m:\u001b[0m\u001b[0;34m\u001b[0m\u001b[0;34m\u001b[0m\u001b[0m\n\u001b[1;32m    260\u001b[0m             \u001b[0;32mraise\u001b[0m \u001b[0mValueError\u001b[0m\u001b[0;34m(\u001b[0m\u001b[0;34m'Must specify ratings file or dataframe.'\u001b[0m\u001b[0;34m)\u001b[0m\u001b[0;34m\u001b[0m\u001b[0;34m\u001b[0m\u001b[0m\n",
      "\u001b[0;31mAttributeError\u001b[0m: 'DatasetAutoFolds' object has no attribute 'itertuples'"
     ]
    }
   ],
   "source": [
    "#Instantiate model using train_test split in Surprise\n",
    "reader = Reader(rating_scale=(1,5))\n",
    "#Load user data from dataframe specifying relevant columns\n",
    "surprise_df = Dataset.load_from_df(df[['reviewerID', 'asin', 'overall']], reader)\n",
    "surprise_data= Dataset.load_from_df(surprise_df, reader)\n",
    "\n",
    "trainset, testset = train_test_split(surprise_data, test_size=0.2, random_state=23)"
   ]
  },
  {
   "cell_type": "code",
   "execution_count": null,
   "metadata": {},
   "outputs": [],
   "source": []
  }
 ],
 "metadata": {
  "kernelspec": {
   "display_name": "Python (learn-env)",
   "language": "python",
   "name": "learn-env"
  },
  "language_info": {
   "codemirror_mode": {
    "name": "ipython",
    "version": 3
   },
   "file_extension": ".py",
   "mimetype": "text/x-python",
   "name": "python",
   "nbconvert_exporter": "python",
   "pygments_lexer": "ipython3",
   "version": "3.8.5"
  }
 },
 "nbformat": 4,
 "nbformat_minor": 4
}
